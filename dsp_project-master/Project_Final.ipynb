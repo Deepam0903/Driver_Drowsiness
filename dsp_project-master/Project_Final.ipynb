{
 "cells": [
  {
   "cell_type": "markdown",
   "metadata": {},
   "source": [
    "### Importing Libraries"
   ]
  },
  {
   "cell_type": "code",
   "execution_count": 54,
   "metadata": {},
   "outputs": [],
   "source": [
    "import cv2\n",
    "import os\n",
    "import random,shutil\n",
    "import numpy as np\n",
    "import pandas as pd\n",
    "import time\n",
    "import matplotlib.pyplot as plt\n",
    "from pygame import mixer\n",
    "from PIL import Image\n",
    "from keras.models import load_model\n",
    "from keras.preprocessing import image\n",
    "from keras.utils.np_utils import to_categorical\n",
    "from keras.models import Sequential\n",
    "from keras.layers import Dropout,Conv2D,Flatten,Dense, MaxPooling2D, BatchNormalization\n",
    "from keras.models import load_model"
   ]
  },
  {
   "cell_type": "markdown",
   "metadata": {},
   "source": [
    "### Converting video to frames\n",
    "###### do not run this piece of code (2nd cell) as the frames are already extracted."
   ]
  },
  {
   "cell_type": "code",
   "execution_count": null,
   "metadata": {},
   "outputs": [],
   "source": [
    "cap = cv2.VideoCapture('1.mp4')\n",
    "try:\n",
    "    if not os.path.exists('data'):\n",
    "        os.makedirs('data')\n",
    "except OSError:\n",
    "    print ('Error: Creating directory of data')\n",
    "\n",
    "currentFrame = 0\n",
    "while(True):\n",
    "    # Capture frame-by-frame\n",
    "    ret, frame = cap.read()\n",
    "    \n",
    "    # Saves image of the current frame in jpg file\n",
    "    name = './data/frame' + str(currentFrame) + '.jpg'\n",
    "    print ('Creating...' + name)\n",
    "    cv2.imwrite(name, frame)\n",
    "    \n",
    "    # To stop duplicate images\n",
    "    currentFrame += 1"
   ]
  },
  {
   "cell_type": "markdown",
   "metadata": {},
   "source": [
    "### Pre-processing\n",
    "##### Step 1: Converting images to grayscale\n",
    "##### Step 2: Resizing the images to 24x24\n",
    "##### Step 3: Normalizing"
   ]
  },
  {
   "cell_type": "code",
   "execution_count": 55,
   "metadata": {},
   "outputs": [],
   "source": [
    "def generator(dir, gen = image.ImageDataGenerator(rescale=1./255), shuffle=True,batch_size=1,target_size=(24,24),class_mode='categorical'):\n",
    "    return gen.flow_from_directory(dir,batch_size=batch_size,shuffle=shuffle,color_mode='grayscale',class_mode=class_mode,target_size=target_size)"
   ]
  },
  {
   "cell_type": "code",
   "execution_count": 56,
   "metadata": {},
   "outputs": [
    {
     "name": "stdout",
     "output_type": "stream",
     "text": [
      "Found 611 images belonging to 2 classes.\n",
      "Found 618 images belonging to 2 classes.\n",
      "<keras.preprocessing.image.DirectoryIterator object at 0x00000284E0C8DE08>\n",
      "<keras.preprocessing.image.DirectoryIterator object at 0x00000284E0C8DF48>\n"
     ]
    }
   ],
   "source": [
    "Batch_s= 32\n",
    "Target_s=(24,24)\n",
    "train_data= generator('train\\\\',shuffle=True, batch_size=Batch_s,target_size=Target_s)\n",
    "valid_data= generator('validate\\\\',shuffle=True, batch_size=Batch_s,target_size=Target_s)\n",
    "##Value count in each category Open/Closed.\n",
    "print(train_data)\n",
    "print(valid_data)"
   ]
  },
  {
   "cell_type": "markdown",
   "metadata": {},
   "source": [
    "### CNN Model Training"
   ]
  },
  {
   "cell_type": "code",
   "execution_count": 57,
   "metadata": {},
   "outputs": [],
   "source": [
    "#Creating model\n",
    "model = Sequential([\n",
    "#Conv2D first layer with 32 nodes and kernel of size 3x3\n",
    "    Conv2D(32, kernel_size=(3, 3), activation='relu', input_shape=(24,24,1)),\n",
    "    MaxPooling2D(pool_size=(1,1)),\n",
    "#Conv2D second layer with 32 nodes\n",
    "    Conv2D(32,(3,3),activation='relu'),\n",
    "    MaxPooling2D(pool_size=(1,1)),\n",
    "#Conv2D third layer with 64 nodes\n",
    "    Conv2D(64, (3, 3), activation='relu'),\n",
    "    MaxPooling2D(pool_size=(1,1)),\n",
    "\n",
    "#Adding Droput layer in order to avoid overfitting\n",
    "#randomly turn neurons on and off to improve generalisation\n",
    "    Dropout(0.25),\n",
    "#flattening over here because there are too many dimesnsions\n",
    "    Flatten(),\n",
    "    Dense(128, activation='relu'),\n",
    "    Dropout(0.5),\n",
    "    Dense(2, activation='softmax')\n",
    "])"
   ]
  },
  {
   "cell_type": "code",
   "execution_count": 58,
   "metadata": {},
   "outputs": [
    {
     "name": "stdout",
     "output_type": "stream",
     "text": [
      "Epoch 1/15\n",
      "19/19 [==============================] - 17s 907ms/step - loss: 0.4869 - accuracy: 0.7703 - val_loss: 1.0160 - val_accuracy: 0.6250\n",
      "Epoch 2/15\n",
      "19/19 [==============================] - 6s 297ms/step - loss: 0.1886 - accuracy: 0.9206 - val_loss: 0.5194 - val_accuracy: 0.7304\n",
      "Epoch 3/15\n",
      "19/19 [==============================] - 6s 318ms/step - loss: 0.0803 - accuracy: 0.9689 - val_loss: 0.1835 - val_accuracy: 0.8618\n",
      "Epoch 4/15\n",
      "19/19 [==============================] - 5s 252ms/step - loss: 0.0832 - accuracy: 0.9672 - val_loss: 0.2679 - val_accuracy: 0.8242\n",
      "Epoch 5/15\n",
      "19/19 [==============================] - 5s 244ms/step - loss: 0.0474 - accuracy: 0.9775 - val_loss: 0.1933 - val_accuracy: 0.9249 loss: 0.0372 - accura\n",
      "Epoch 6/15\n",
      "19/19 [==============================] - 5s 246ms/step - loss: 0.0256 - accuracy: 0.9914 - val_loss: 0.2080 - val_accuracy: 0.8840\n",
      "Epoch 7/15\n",
      "19/19 [==============================] - 5s 243ms/step - loss: 0.0361 - accuracy: 0.9879 - val_loss: 1.2519 - val_accuracy: 0.8208\n",
      "Epoch 8/15\n",
      "19/19 [==============================] - 5s 242ms/step - loss: 0.0284 - accuracy: 0.9918 - val_loss: 0.2590 - val_accuracy: 0.9096\n",
      "Epoch 9/15\n",
      "19/19 [==============================] - 4s 225ms/step - loss: 0.0263 - accuracy: 0.9879 - val_loss: 0.1832 - val_accuracy: 0.9010\n",
      "Epoch 10/15\n",
      "19/19 [==============================] - 5s 252ms/step - loss: 0.0113 - accuracy: 0.9983 - val_loss: 0.4454 - val_accuracy: 0.8754\n",
      "Epoch 11/15\n",
      "19/19 [==============================] - 5s 248ms/step - loss: 0.0250 - accuracy: 0.9845 - val_loss: 0.4393 - val_accuracy: 0.9181\n",
      "Epoch 12/15\n",
      "19/19 [==============================] - 4s 226ms/step - loss: 0.0126 - accuracy: 0.9982 - val_loss: 0.3879 - val_accuracy: 0.9181\n",
      "Epoch 13/15\n",
      "19/19 [==============================] - 4s 211ms/step - loss: 0.0254 - accuracy: 0.9901 - val_loss: 0.4913 - val_accuracy: 0.8771\n",
      "Epoch 14/15\n",
      "19/19 [==============================] - 4s 214ms/step - loss: 0.0064 - accuracy: 1.0000 - val_loss: 0.4757 - val_accuracy: 0.9096\n",
      "Epoch 15/15\n",
      "19/19 [==============================] - 4s 212ms/step - loss: 0.0097 - accuracy: 0.9934 - val_loss: 0.0439 - val_accuracy: 0.9317\n"
     ]
    }
   ],
   "source": [
    "#Calculating steps per epoch and validation steps\n",
    "epoch_steps= len(train_data.classes)//Batch_s\n",
    "validate_steps = len(valid_data.classes)//Batch_s\n",
    "\n",
    "#Compiling the model\n",
    "model.compile(optimizer='adam',loss='categorical_crossentropy',metrics=['accuracy'])\n",
    "#Fitting the model\n",
    "results = model.fit_generator(train_data, validation_data=valid_data,epochs=15,steps_per_epoch=epoch_steps ,validation_steps=validate_steps)\n",
    "#Saving the model\n",
    "model.save('drowsiness_model.h5', overwrite=True)"
   ]
  },
  {
   "cell_type": "code",
   "execution_count": 59,
   "metadata": {},
   "outputs": [
    {
     "name": "stdout",
     "output_type": "stream",
     "text": [
      "Model: \"sequential_1\"\n",
      "_________________________________________________________________\n",
      "Layer (type)                 Output Shape              Param #   \n",
      "=================================================================\n",
      "conv2d_1 (Conv2D)            (None, 22, 22, 32)        320       \n",
      "_________________________________________________________________\n",
      "max_pooling2d_1 (MaxPooling2 (None, 22, 22, 32)        0         \n",
      "_________________________________________________________________\n",
      "conv2d_2 (Conv2D)            (None, 20, 20, 32)        9248      \n",
      "_________________________________________________________________\n",
      "max_pooling2d_2 (MaxPooling2 (None, 20, 20, 32)        0         \n",
      "_________________________________________________________________\n",
      "conv2d_3 (Conv2D)            (None, 18, 18, 64)        18496     \n",
      "_________________________________________________________________\n",
      "max_pooling2d_3 (MaxPooling2 (None, 18, 18, 64)        0         \n",
      "_________________________________________________________________\n",
      "dropout_1 (Dropout)          (None, 18, 18, 64)        0         \n",
      "_________________________________________________________________\n",
      "flatten_1 (Flatten)          (None, 20736)             0         \n",
      "_________________________________________________________________\n",
      "dense_1 (Dense)              (None, 128)               2654336   \n",
      "_________________________________________________________________\n",
      "dropout_2 (Dropout)          (None, 128)               0         \n",
      "_________________________________________________________________\n",
      "dense_2 (Dense)              (None, 2)                 258       \n",
      "=================================================================\n",
      "Total params: 2,682,658\n",
      "Trainable params: 2,682,658\n",
      "Non-trainable params: 0\n",
      "_________________________________________________________________\n"
     ]
    }
   ],
   "source": [
    "model.summary()"
   ]
  },
  {
   "cell_type": "code",
   "execution_count": 60,
   "metadata": {},
   "outputs": [
    {
     "data": {
      "image/png": "[encoded data removed]",
      "text/plain": [
       "<Figure size 432x288 with 1 Axes>"
      ]
     },
     "metadata": {
      "needs_background": "light"
     },
     "output_type": "display_data"
    },
    {
     "data": {
      "image/png": "[encoded data removed]",
      "text/plain": [
       "<Figure size 432x288 with 1 Axes>"
      ]
     },
     "metadata": {
      "needs_background": "light"
     },
     "output_type": "display_data"
    }
   ],
   "source": [
    "#Plotting the results\n",
    "\n",
    "#Model Accuracy\n",
    "plt.plot(results.history['accuracy'])\n",
    "plt.plot(results.history['val_accuracy'])\n",
    "plt.title('model accuracy')\n",
    "plt.ylabel('accuracy')\n",
    "plt.xlabel('epoch')\n",
    "plt.legend(['train', 'validation'], loc='upper left')\n",
    "plt.show()\n",
    "\n",
    "#Model loss\n",
    "plt.plot(results.history['loss'])\n",
    "plt.plot(results.history['val_loss'])\n",
    "plt.title('model loss')\n",
    "plt.ylabel('loss')\n",
    "plt.xlabel('epoch')\n",
    "plt.legend(['train', 'validation'], loc='upper left')\n",
    "plt.show()"
   ]
  },
  {
   "cell_type": "markdown",
   "metadata": {},
   "source": [
    "### Model Testing and Drowsiness Detection"
   ]
  },
  {
   "cell_type": "code",
   "execution_count": 49,
   "metadata": {},
   "outputs": [],
   "source": [
    "#Labels Open and closed\n",
    "label=['Close','Open']\n",
    "\n",
    "#Loading the saved model\n",
    "model = load_model('cnncat2.h5')\n",
    "\n",
    "path = os.getcwd()\n",
    "cap = cv2.VideoCapture(0)\n",
    "font = cv2.FONT_HERSHEY_COMPLEX_SMALL\n",
    "count=0\n",
    "score=0\n",
    "thicc=2\n",
    "rpred=[99]\n",
    "lpred=[99]"
   ]
  },
  {
   "cell_type": "code",
   "execution_count": 50,
   "metadata": {},
   "outputs": [],
   "source": [
    "mixer.init()\n",
    "sound = mixer.Sound('alarm.wav')"
   ]
  },
  {
   "cell_type": "code",
   "execution_count": 51,
   "metadata": {},
   "outputs": [],
   "source": [
    "#Haar cascade files \n",
    "face = cv2.CascadeClassifier('haarcascade_frontalface_alt.xml')\n",
    "leye = cv2.CascadeClassifier('haarcascade_lefteye_2splits.xml')\n",
    "reye = cv2.CascadeClassifier('haarcascade_righteye_2splits.xml')"
   ]
  },
  {
   "cell_type": "code",
   "execution_count": 52,
   "metadata": {
    "scrolled": true
   },
   "outputs": [
    {
     "ename": "KeyboardInterrupt",
     "evalue": "",
     "output_type": "error",
     "traceback": [
      "\u001b[1;31m---------------------------------------------------------------------------\u001b[0m",
      "\u001b[1;31mKeyboardInterrupt\u001b[0m                         Traceback (most recent call last)",
      "\u001b[1;32m<ipython-input-52-82188ca4c6e4>\u001b[0m in \u001b[0;36m<module>\u001b[1;34m\u001b[0m\n\u001b[0;32m     64\u001b[0m     \u001b[1;32mif\u001b[0m\u001b[1;33m(\u001b[0m\u001b[0mscore\u001b[0m\u001b[1;33m>\u001b[0m\u001b[1;36m15\u001b[0m\u001b[1;33m)\u001b[0m\u001b[1;33m:\u001b[0m\u001b[1;33m\u001b[0m\u001b[1;33m\u001b[0m\u001b[0m\n\u001b[0;32m     65\u001b[0m         \u001b[1;31m#person is feeling sleepy so we beep the alarm\u001b[0m\u001b[1;33m\u001b[0m\u001b[1;33m\u001b[0m\u001b[1;33m\u001b[0m\u001b[0m\n\u001b[1;32m---> 66\u001b[1;33m         \u001b[0mcv2\u001b[0m\u001b[1;33m.\u001b[0m\u001b[0mimwrite\u001b[0m\u001b[1;33m(\u001b[0m\u001b[0mos\u001b[0m\u001b[1;33m.\u001b[0m\u001b[0mpath\u001b[0m\u001b[1;33m.\u001b[0m\u001b[0mjoin\u001b[0m\u001b[1;33m(\u001b[0m\u001b[0mpath\u001b[0m\u001b[1;33m,\u001b[0m\u001b[1;34m'image.jpg'\u001b[0m\u001b[1;33m)\u001b[0m\u001b[1;33m,\u001b[0m\u001b[0mframe\u001b[0m\u001b[1;33m)\u001b[0m\u001b[1;33m\u001b[0m\u001b[1;33m\u001b[0m\u001b[0m\n\u001b[0m\u001b[0;32m     67\u001b[0m         \u001b[1;32mtry\u001b[0m\u001b[1;33m:\u001b[0m\u001b[1;33m\u001b[0m\u001b[1;33m\u001b[0m\u001b[0m\n\u001b[0;32m     68\u001b[0m             \u001b[0msound\u001b[0m\u001b[1;33m.\u001b[0m\u001b[0mplay\u001b[0m\u001b[1;33m(\u001b[0m\u001b[1;33m)\u001b[0m\u001b[1;33m\u001b[0m\u001b[1;33m\u001b[0m\u001b[0m\n",
      "\u001b[1;31mKeyboardInterrupt\u001b[0m: "
     ]
    }
   ],
   "source": [
    "while(True):\n",
    "    ret, frame = cap.read()\n",
    "    height,width = frame.shape[:2] \n",
    "    gray = cv2.cvtColor(frame, cv2.COLOR_BGR2GRAY)\n",
    "    # Detecing left and right eye\n",
    "    faces = face.detectMultiScale(gray,minNeighbors=5,scaleFactor=1.1,minSize=(25,25))\n",
    "    left_eye = leye.detectMultiScale(gray)\n",
    "    right_eye =  reye.detectMultiScale(gray)\n",
    "    cv2.rectangle(frame, (0,height-50) , (200,height) , (0,0,0) , thickness=cv2.FILLED)\n",
    "    #Detecting the face and framing with a rectangle\n",
    "    for (x,y,w,h) in faces:\n",
    "        cv2.rectangle(frame, (x,y) , (x+w,y+h) , (100,100,100) , 1 )\n",
    "    for (x,y,w,h) in right_eye:\n",
    "        r_eye=frame[y:y+h,x:x+w]\n",
    "        count=count+1\n",
    "        #Converting right eye image to grayscale \n",
    "        r_eye = cv2.cvtColor(r_eye,cv2.COLOR_BGR2GRAY)\n",
    "        #Resizing right eye\n",
    "        r_eye = cv2.resize(r_eye,(24,24))\n",
    "        #Normalising right eye\n",
    "        r_eye= r_eye/255\n",
    "        r_eye=  r_eye.reshape(24,24,-1)\n",
    "        r_eye = np.expand_dims(r_eye,axis=0)\n",
    "        rpred = model.predict_classes(r_eye)\n",
    "        #Assigning a label as open and closed as 1 and 0 respectively\n",
    "        if(rpred[0]==1):\n",
    "            label='Open' \n",
    "        if(rpred[0]==0):\n",
    "            label='Closed'\n",
    "        break\n",
    "\n",
    "    for (x,y,w,h) in left_eye:\n",
    "        l_eye=frame[y:y+h,x:x+w]\n",
    "        count=count+1\n",
    "        #Converting right eye image to grayscale \n",
    "        l_eye = cv2.cvtColor(l_eye,cv2.COLOR_BGR2GRAY)  \n",
    "        #Resizing right eye\n",
    "        l_eye = cv2.resize(l_eye,(24,24))\n",
    "        #Normalising right eye\n",
    "        l_eye= l_eye/255\n",
    "        l_eye=l_eye.reshape(24,24,-1)\n",
    "        l_eye = np.expand_dims(l_eye,axis=0)\n",
    "        lpred = model.predict_classes(l_eye)\n",
    "        #Assigning a label as open and closed as 1 and 0 respectively\n",
    "        if(lpred[0]==1):\n",
    "            label='Open'   \n",
    "        if(lpred[0]==0):\n",
    "            label='Closed'\n",
    "        break\n",
    "\n",
    "    #Scoring Logic\n",
    "    if(rpred[0]==0 and lpred[0]==0):\n",
    "        #Keeping a count of the opening and closing of eyes and increasing or decreasing the score accordingly. \n",
    "        score=score+1\n",
    "        cv2.putText(frame,\"Closed\",(10,height-20), font, 1,(255,255,255),1,cv2.LINE_AA)\n",
    "    else:\n",
    "        score=score-1\n",
    "        cv2.putText(frame,\"Open\",(10,height-20), font, 1,(255,255,255),1,cv2.LINE_AA)\n",
    "    \n",
    "        \n",
    "    if(score<0):\n",
    "        score=0   \n",
    "    cv2.putText(frame,'Score:'+str(score),(100,height-20), font, 1,(255,255,255),1,cv2.LINE_AA)\n",
    "    if(score>15):\n",
    "        #person is feeling sleepy so we beep the alarm\n",
    "        cv2.imwrite(os.path.join(path,'image.jpg'),frame)\n",
    "        try:\n",
    "            sound.play()\n",
    "            \n",
    "        except:  # isplaying = False\n",
    "            pass\n",
    "        if(thicc<16):\n",
    "            thicc= thicc+2\n",
    "        else:\n",
    "            thicc=thicc-2\n",
    "            if(thicc<2):\n",
    "                thicc=2\n",
    "        cv2.rectangle(frame,(0,0),(width,height),(0,0,255),thicc) \n",
    "    cv2.imshow('frame',frame)\n",
    "    if cv2.waitKey(1) & 0xFF == ord('q'):\n",
    "        break"
   ]
  },
  {
   "cell_type": "code",
   "execution_count": 53,
   "metadata": {},
   "outputs": [],
   "source": [
    "cap.release()\n",
    "cv2.destroyAllWindows()"
   ]
  }
 ],
 "metadata": {
  "kernelspec": {
   "display_name": "Python 3",
   "language": "python",
   "name": "python3"
  },
  "language_info": {
   "codemirror_mode": {
    "name": "ipython",
    "version": 3
   },
   "file_extension": ".py",
   "mimetype": "text/x-python",
   "name": "python",
   "nbconvert_exporter": "python",
   "pygments_lexer": "ipython3",
   "version": "3.7.6"
  }
 },
 "nbformat": 4,
 "nbformat_minor": 4
}
