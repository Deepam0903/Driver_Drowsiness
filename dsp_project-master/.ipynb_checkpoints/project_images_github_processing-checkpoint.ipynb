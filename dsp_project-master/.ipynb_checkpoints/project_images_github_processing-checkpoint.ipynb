{
 "cells": [
  {
   "cell_type": "code",
   "execution_count": 1,
   "metadata": {},
   "outputs": [],
   "source": [
    "import numpy as np\n",
    "import pandas as pd\n",
    "import cv2\n",
    "import os\n",
    "import matplotlib.pyplot as plt\n",
    "from PIL import Image"
   ]
  },
  {
   "cell_type": "code",
   "execution_count": 85,
   "metadata": {},
   "outputs": [],
   "source": [
    "path = \"C:\\\\Users\\\\deepa\\\\Downloads\\\\dsp_project-master\\\\dsp_project-master\\\\images\\\\\""
   ]
  },
  {
   "cell_type": "code",
   "execution_count": 45,
   "metadata": {},
   "outputs": [],
   "source": [
    "#Renaming the files for open\n",
    "for count, filename in enumerate(os.listdir(\"C:\\\\Users\\\\deepa\\\\Downloads\\\\dsp_project-master\\\\dsp_project-master\\\\open\\\\\")):\n",
    "    dst =\"frame_open\" + str(count) + \".jpg\"\n",
    "    src ='C:\\\\Users\\\\deepa\\\\Downloads\\\\dsp_project-master\\\\dsp_project-master\\\\open\\\\'+ filename \n",
    "    dst ='C:\\\\Users\\\\deepa\\\\Downloads\\\\dsp_project-master\\\\dsp_project-master\\\\open\\\\'+ dst \n",
    "    os.rename(src, dst)"
   ]
  },
  {
   "cell_type": "code",
   "execution_count": 49,
   "metadata": {},
   "outputs": [],
   "source": [
    "#Renaming the files for closed\n",
    "for count, filename in enumerate(os.listdir(\"C:\\\\Users\\\\deepa\\\\Downloads\\\\dsp_project-master\\\\dsp_project-master\\\\closed\\\\\")):\n",
    "    dst =\"frame_closed\" + str(count) + \".jpg\"\n",
    "    src ='C:\\\\Users\\\\deepa\\\\Downloads\\\\dsp_project-master\\\\dsp_project-master\\\\closed\\\\'+ filename \n",
    "    dst ='C:\\\\Users\\\\deepa\\\\Downloads\\\\dsp_project-master\\\\dsp_project-master\\\\closed\\\\'+ dst \n",
    "    os.rename(src, dst)"
   ]
  },
  {
   "cell_type": "code",
   "execution_count": 93,
   "metadata": {},
   "outputs": [],
   "source": [
    "data = ['C:\\\\Users\\\\deepa\\\\Downloads\\\\dsp_project-master\\\\dsp_project-master\\\\images\\\\{}'.format(i) for i in os.listdir(path)]"
   ]
  },
  {
   "cell_type": "code",
   "execution_count": 95,
   "metadata": {},
   "outputs": [],
   "source": [
    "nrows = 28\n",
    "ncolumns = 28\n",
    "def process_images(images):\n",
    "    X = []\n",
    "    y =[]\n",
    "    for i in images:\n",
    "        X.append(cv2.resize(cv2.imread(i), (nrows,ncolumns), interpolation = cv2.INTER_CUBIC))\n",
    "        if 'open' in i:\n",
    "            y.append(1)\n",
    "        elif 'closed' in i:\n",
    "            y.append(0)\n",
    "    return X,y"
   ]
  },
  {
   "cell_type": "code",
   "execution_count": 100,
   "metadata": {},
   "outputs": [],
   "source": [
    "X , y = process_images(data)"
   ]
  }
 ],
 "metadata": {
  "kernelspec": {
   "display_name": "Python 3",
   "language": "python",
   "name": "python3"
  },
  "language_info": {
   "codemirror_mode": {
    "name": "ipython",
    "version": 3
   },
   "file_extension": ".py",
   "mimetype": "text/x-python",
   "name": "python",
   "nbconvert_exporter": "python",
   "pygments_lexer": "ipython3",
   "version": "3.7.6"
  }
 },
 "nbformat": 4,
 "nbformat_minor": 4
}
